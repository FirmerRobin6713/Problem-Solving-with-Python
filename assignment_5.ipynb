{
 "cells": [
  {
   "cell_type": "code",
   "execution_count": 1,
   "id": "fa8dea1d-417b-4427-ad67-b3f1e9520ddc",
   "metadata": {},
   "outputs": [],
   "source": [
    "# Imports\n",
    "import numpy as np\n",
    "import matplotlib.pyplot as plt\n",
    "import matplotlib.patches as patches\n",
    "import matplotlib.colors as mcolors"
   ]
  },
  {
   "cell_type": "markdown",
   "id": "d3d325af-9739-4796-ac11-6453c464fa7d",
   "metadata": {},
   "source": [
    "## Set up"
   ]
  },
  {
   "cell_type": "code",
   "execution_count": 2,
   "id": "232d6696-3238-427c-b7a8-6c851cbb8d1f",
   "metadata": {},
   "outputs": [
    {
     "name": "stdout",
     "output_type": "stream",
     "text": [
      "[[17 16 15 14 13]\n",
      " [18  5  4  3 12]\n",
      " [19  6  1  2 11]\n",
      " [20  7  8  9 10]\n",
      " [21 22 23 24 25]]\n"
     ]
    }
   ],
   "source": [
    "# Function to calculate entries\n",
    "def spiral_coordinates(n):\n",
    "    # If n = 1, we are at the centre\n",
    "    if n == 1:\n",
    "        return (0, 0)\n",
    "    \n",
    "    # Calculate k and d\n",
    "    k = int(np.ceil((np.sqrt(n) - 1) / 2))\n",
    "    d = (2 * k + 1) ** 2 - (n) \n",
    "    \n",
    "    # Calculate the coordinates based\n",
    "    # 0 <= d <= 2k\n",
    "    if d <= 2 * k:\n",
    "        return (k - d, -k)\n",
    "    # 2k < d <= 4k\n",
    "    elif d <= 4 * k:\n",
    "        return (-k, -3 * k + d)\n",
    "    # 4k < d <= 6k\n",
    "    elif d <= 6 * k:\n",
    "        return (-5 * k + d, k)\n",
    "    # 6k < d <= (2k+1)^2\n",
    "    else:\n",
    "        return (k, 7 * k - d)\n",
    "\n",
    "# Function to generate the spiral as a matrix\n",
    "# Note that we generate it based off of the number of layers not the grid size - there is\n",
    "# a one-to-one map between them so it doesnt matter which one we use\n",
    "def generate_spiral(layers):\n",
    "    # Calculate n using the number of layers\n",
    "    N = 2 * layers - 1\n",
    "    # Initialise the spiral matrix\n",
    "    spiral = np.zeros((N, N), dtype=int)\n",
    "    # Get the center (this is how we make (0,0) the centre through translation)\n",
    "    center = N // 2\n",
    "    \n",
    "    # Loop over the entries of the matrix\n",
    "    for n in range(1, N**2+1):\n",
    "        # Get the coordinates of the entry\n",
    "        x, y = spiral_coordinates(n)\n",
    "        # Assign the value to the correct coordinate (appropriately translated using the center)\n",
    "        spiral[center - y, center + x] = n\n",
    "    \n",
    "    return spiral\n",
    "\n",
    "# Test:\n",
    "layers = 3\n",
    "spiral_matrix = generate_spiral(layers)\n",
    "print(spiral_matrix)"
   ]
  },
  {
   "cell_type": "markdown",
   "id": "214e9561-8e6d-4dc2-8560-3044ac237181",
   "metadata": {},
   "source": [
    "## Diagrams of Spirals"
   ]
  },
  {
   "cell_type": "code",
   "execution_count": 3,
   "id": "3d4d06cf-0297-4c47-a855-af97a08335e0",
   "metadata": {},
   "outputs": [
    {
     "data": {
      "image/png": "[encoded data removed]",
      "text/plain": [
       "<Figure size 576x576 with 2 Axes>"
      ]
     },
     "metadata": {},
     "output_type": "display_data"
    }
   ],
   "source": [
    "# Function to plot the spiral\n",
    "def plot_spiral(spiral_matrix, show_layers = False):\n",
    "    # Get the grid size of the spiral\n",
    "    N = spiral_matrix.shape[0]\n",
    "    # Create a figure\n",
    "    fig, ax = plt.subplots(figsize=(8, 8))\n",
    "    \n",
    "    # Get rid of the x and y ticks and axes\n",
    "    ax.set_xticks([])\n",
    "    ax.set_yticks([])\n",
    "    ax.set_frame_on(False)\n",
    "    \n",
    "    # If show layers, we colour the layers\n",
    "    if show_layers:\n",
    "        # Define colors for the layers\n",
    "        colors = ['red', 'blue', 'green', 'purple', 'orange', 'cyan', 'magenta']\n",
    "        # Calculate the number of layers\n",
    "        layers = (N - 1) // 2\n",
    "\n",
    "        # Create a dictionary to store legend patches\n",
    "        legend_patches = []\n",
    "\n",
    "        # Fill cells based on their layer\n",
    "        if N % 2 == 1:\n",
    "            # Get the center in the case N is odd\n",
    "            center = N // 2\n",
    "        else:\n",
    "            # Get the center in the case N is even\n",
    "            center = (N-1) // 2\n",
    "        for i in range(N):\n",
    "            for j in range(N):\n",
    "                # Get the number n from in the (i,j)th position\n",
    "                n = spiral_matrix[i, j]\n",
    "                \n",
    "                # Double check the number is larger than 0\n",
    "                if n > 0:\n",
    "                    # Determine which layer the number belongs to\n",
    "                    # Get the adjusted x and y distances\n",
    "                    x_dist = abs(j - center)\n",
    "                    y_dist = abs(i - center)\n",
    "                    # Determine the layer that the point belongs to - The layer is determined by\n",
    "                    # the maximum distance from center\n",
    "                    layer = max(x_dist, y_dist)\n",
    "\n",
    "                    # Fill cell with the layer color\n",
    "                    rect = patches.Rectangle((j - 0.5, i - 0.5), 1, 1,\n",
    "                                             linewidth=0, facecolor=colors[layer % len(colors)], alpha=0.3)\n",
    "                    ax.add_patch(rect)\n",
    "\n",
    "                    # Store legend patch if not already added\n",
    "                    if layer == len(legend_patches):\n",
    "                        legend_patches.append(patches.Patch(color=colors[layer % len(colors)], label=f'Layer {layer}'))\n",
    "\n",
    "        # Add outlines to the layers\n",
    "        # Loop over the layers\n",
    "        for k in range(layers + 1):\n",
    "            # Odd case\n",
    "            if N % 2 == 1:\n",
    "                lower = (N // 2) - k\n",
    "                upper = (N // 2) + k\n",
    "            # Even case\n",
    "            else:\n",
    "                lower = ((N - 1) // 2) - k\n",
    "                upper = ((N - 1) // 2) + k\n",
    "            # Calculate the width\n",
    "            width = upper - lower\n",
    "            \n",
    "            # Add outline to the layer\n",
    "            rect = patches.Rectangle((lower - 0.5, lower - 0.5), width + 1, width + 1,\n",
    "                                     linewidth=2, edgecolor=colors[k % len(colors)], facecolor='none')\n",
    "            ax.add_patch(rect)\n",
    "            \n",
    "        # Move legend outside the plot\n",
    "        fig.subplots_adjust(right=0.8)\n",
    "        legend_ax = fig.add_axes([0.82, 0.2, 0.1, 0.6])\n",
    "        legend_ax.set_xticks([])\n",
    "        legend_ax.set_yticks([])\n",
    "        legend_ax.set_frame_on(False)\n",
    "        legend_ax.legend(handles=legend_patches, loc=\"center\", title=\"Layers\")\n",
    "\n",
    "    # Plot numbers\n",
    "    # Dictionary to store the positions of the numbers\n",
    "    positions = {}\n",
    "    # Loop over the entries of the spiral matrix\n",
    "    for i in range(N):\n",
    "        for j in range(N):\n",
    "            # Get the number n\n",
    "            n = spiral_matrix[N-1-i, j]\n",
    "            # Double check the number is greater than 0\n",
    "            if n > 0:\n",
    "                # Add the number to the plot\n",
    "                ax.text(j, i, str(n), ha='center', va='center', fontsize=12, fontweight='bold', color='black')\n",
    "                positions[n] = (j, i)\n",
    "\n",
    "    # Plot arrows\n",
    "    # Set the arrow size\n",
    "    arrow_size = 0.4\n",
    "    # Loop over the entries\n",
    "    for n in range(1, N**2):\n",
    "        # Check the next number is available\n",
    "        if n + 1 in positions:\n",
    "            # Get the coordinates of the current and next number\n",
    "            x1, y1 = positions[n]\n",
    "            x2, y2 = positions[n + 1]\n",
    "            # Add arrows in direction based on the current and next coordinates\n",
    "            if x1 > x2:\n",
    "                ax.arrow(x1 - 0.2, y1, (x2 - x1) * arrow_size, (y2 - y1) * arrow_size, head_width=0.1, head_length=0.1, fc='black', ec='black')\n",
    "            if x1 < x2:\n",
    "                ax.arrow(x1 + 0.2, y1, (x2 - x1) * arrow_size, (y2 - y1) * arrow_size, head_width=0.1, head_length=0.1, fc='black', ec='black')\n",
    "            if y1 > y2:\n",
    "                ax.arrow(x1, y1 - 0.2, (x2 - x1) * arrow_size, (y2 - y1) * arrow_size, head_width=0.1, head_length=0.1, fc='black', ec='black')\n",
    "            if y1 < y2:\n",
    "                ax.arrow(x1, y1 + 0.2, (x2 - x1) * arrow_size, (y2 - y1) * arrow_size, head_width=0.1, head_length=0.1, fc='black', ec='black')\n",
    "    \n",
    "    # Show the plot\n",
    "    plt.show()\n",
    "\n",
    "# Test\n",
    "layers = 2\n",
    "plot_spiral(generate_spiral(layers), show_layers = True)"
   ]
  },
  {
   "cell_type": "markdown",
   "id": "41958f30-2f16-491a-a4bb-50b452d27b6f",
   "metadata": {},
   "source": [
    "## Conjecture 2"
   ]
  },
  {
   "cell_type": "code",
   "execution_count": 4,
   "id": "d7cb2a80-4879-44f8-aa51-f9ead4a67731",
   "metadata": {},
   "outputs": [
    {
     "name": "stdout",
     "output_type": "stream",
     "text": [
      "n=1: ||(x_n,y_n)||_2 = 0.0\n",
      "n=2: ||(x_n,y_n)||_2 = 1.0\n",
      "n=3: ||(x_n,y_n)||_2 = 1.4142135623730951\n"
     ]
    }
   ],
   "source": [
    "# Function to calculate the lengths of the coordinate vectors\n",
    "def calculate_coordinate_length(n):\n",
    "    # Get the coordinate vector for n\n",
    "    x, y = spiral_coordinates(n)\n",
    "    # Return the length of the coordinate vector\n",
    "    return np.sqrt(x**2 + y**2)\n",
    "\n",
    "# Test\n",
    "print(f\"n=1: ||(x_n,y_n)||_2 = {calculate_coordinate_length(1)}\")\n",
    "print(f\"n=2: ||(x_n,y_n)||_2 = {calculate_coordinate_length(2)}\")\n",
    "print(f\"n=3: ||(x_n,y_n)||_2 = {calculate_coordinate_length(3)}\")"
   ]
  },
  {
   "cell_type": "code",
   "execution_count": 5,
   "id": "273a7aa9-8bf1-4fb6-bcec-07e275676f35",
   "metadata": {},
   "outputs": [
    {
     "name": "stdout",
     "output_type": "stream",
     "text": [
      "n=1: k_n = 0\n",
      "n=2: k_n = 1\n",
      "n=10: k_n = 2\n"
     ]
    }
   ],
   "source": [
    "# Function to calculate k_n\n",
    "def calculate_k_n(n):\n",
    "    return int(np.ceil((np.sqrt(n) - 1) / 2))\n",
    "\n",
    "# Test\n",
    "print(f\"n=1: k_n = {calculate_k_n(1)}\")\n",
    "print(f\"n=2: k_n = {calculate_k_n(2)}\")\n",
    "print(f\"n=10: k_n = {calculate_k_n(10)}\")"
   ]
  },
  {
   "cell_type": "code",
   "execution_count": 6,
   "id": "764c3586-96b5-441a-af0d-6ecbe15f4e90",
   "metadata": {},
   "outputs": [
    {
     "data": {
      "image/png": "[encoded data removed]",
      "text/plain": [
       "<Figure size 432x288 with 1 Axes>"
      ]
     },
     "metadata": {
      "needs_background": "light"
     },
     "output_type": "display_data"
    }
   ],
   "source": [
    "# Set the maximum n to consider\n",
    "n_max = 100\n",
    "\n",
    "# Get the n values from 1 to n_max\n",
    "n_values = list(range(1,n_max+1))\n",
    "# Get the lengths of the coordinate vectors for each n\n",
    "lengths = [calculate_coordinate_length(n) for n in n_values]\n",
    "# Get the bound for each n\n",
    "bound = [calculate_k_n(n) * np.sqrt(2) for n in n_values]\n",
    "\n",
    "# Plot bound vs lengths\n",
    "plt.plot(n_values, lengths, label='lengths')\n",
    "plt.plot(n_values, bound, label='bound')\n",
    "plt.title('Lengths of the coordinate vectors vs the bound')\n",
    "plt.xlabel('n')\n",
    "plt.ylabel('Length')\n",
    "plt.legend()\n",
    "plt.show()"
   ]
  },
  {
   "cell_type": "markdown",
   "id": "7d56476b-cda9-49f8-aa12-7c0f00a6e066",
   "metadata": {},
   "source": [
    "## Extensions"
   ]
  },
  {
   "cell_type": "markdown",
   "id": "4ebbac38-b497-4a3e-9f78-d86a4bdefd05",
   "metadata": {},
   "source": [
    "### Even N"
   ]
  },
  {
   "cell_type": "code",
   "execution_count": 7,
   "id": "3adb86ff-983c-444a-bd62-a176db7aa670",
   "metadata": {},
   "outputs": [
    {
     "name": "stdout",
     "output_type": "stream",
     "text": [
      "[[16 15 14 13]\n",
      " [ 5  4  3 12]\n",
      " [ 6  1  2 11]\n",
      " [ 7  8  9 10]]\n"
     ]
    }
   ],
   "source": [
    "# Function to generate the spiral when N is even\n",
    "def generate_spiral_even(N):\n",
    "    # Initialise the spiral matrix\n",
    "    spiral = np.zeros((N, N), dtype=int)\n",
    "    # Get the center of the matrix\n",
    "    center = (N-1) // 2\n",
    "    \n",
    "    # Loop through the entries\n",
    "    for n in range(1, N**2+1):\n",
    "        # Get the coordinates of n\n",
    "        x, y = spiral_coordinates(n)\n",
    "        # Add n to the matrix in the correct place\n",
    "        spiral[center - y + 1, center + x] = n\n",
    "    \n",
    "    return spiral\n",
    "\n",
    "# Example usage:\n",
    "N = 4  # Define the grid size\n",
    "spiral_matrix_even = generate_spiral_even(N)\n",
    "print(spiral_matrix_even)"
   ]
  },
  {
   "cell_type": "code",
   "execution_count": 8,
   "id": "8312d76f-4470-4aa8-96e3-255fa01c18ad",
   "metadata": {},
   "outputs": [
    {
     "data": {
      "image/png": "[encoded data removed]",
      "text/plain": [
       "<Figure size 576x576 with 2 Axes>"
      ]
     },
     "metadata": {},
     "output_type": "display_data"
    }
   ],
   "source": [
    "# Plot the spiral for N=4\n",
    "plot_spiral(spiral_matrix_even, show_layers = True)"
   ]
  },
  {
   "cell_type": "code",
   "execution_count": null,
   "id": "d4bed490-56b3-4db7-991f-a54110cd8f11",
   "metadata": {},
   "outputs": [],
   "source": []
  }
 ],
 "metadata": {
  "kernelspec": {
   "display_name": "Python 3 (ipykernel)",
   "language": "python",
   "name": "python3"
  },
  "language_info": {
   "codemirror_mode": {
    "name": "ipython",
    "version": 3
   },
   "file_extension": ".py",
   "mimetype": "text/x-python",
   "name": "python",
   "nbconvert_exporter": "python",
   "pygments_lexer": "ipython3",
   "version": "3.9.12"
  }
 },
 "nbformat": 4,
 "nbformat_minor": 5
}
